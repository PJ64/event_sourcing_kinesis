{
 "cells": [
  {
   "cell_type": "markdown",
   "metadata": {},
   "source": [
    "## Event Sourcing with Kinesis\n",
    "\n",
    "The following demonstration uses Amazon Kinesis Data Streams to trigger AWS Lambda function. As you create the Kinesis trigger, you can configure how the function handles the stream. The Batch size setting determines largest number of records that will be read from your stream at once. The Batch window setting configures the maximum amount of time to gather records before invoking the function.\n",
    "\n",
    "**Put Item 1**\n",
    "\n",
    "By configuring the function with a large batch size and a long batch window, you will reduce the cost of the function and increase the duration.\n",
    "Batch size: 100\n",
    "Batch window: 30 seconds\n",
    "\n",
    "**Put Item 2**\n",
    "\n",
    "By setting a smaller batch size and a shorter batch window you will reduce the duration and increase the cost.\n",
    "Batch size: 10\n",
    "Batch window: 2 seconds\n"
   ]
  },
  {
   "cell_type": "markdown",
   "metadata": {},
   "source": [
    "![architecture](../images/architecture_1.png \"architecture\")"
   ]
  },
  {
   "cell_type": "markdown",
   "metadata": {},
   "source": [
    "**Jupyter Notebook**\n",
    "\n",
    "Replace ... with the gateway id and execute the script.\n",
    "\n",
    "```gwid_pattern = …```\n"
   ]
  },
  {
   "cell_type": "code",
   "execution_count": null,
   "metadata": {},
   "outputs": [],
   "source": [
    "#Set gateway id\n",
    "gwid_pattern = '...'\n",
    "\n",
    "import boto3, requests, datetime\n",
    "from random import randrange\n",
    "\n",
    "city_list=[\"Adelaide\",\"Brisbane\",\"Canberra\",\"Darwin\",\"Geelong\",\"Gold Coast\",\"Hobart\",\"Melbourne\",\"Perth\",\"Sydney\",\"Wollongong\"]\n",
    "coffeetype_list=[\"Short Black\",\"Flat White\",\"Latte\",\"Long Black\"]\n",
    "coffeesize_list=[{\"size\":\"Small\",\"price\":3.5},{\"size\":\"Medium\",\"price\":4.0},{\"size\":\"Large\",\"price\":4.5},{\"size\":\"x-Large\",\"price\":5.0}]\n",
    "\n",
    "url = (f'https://{gwid_pattern}.execute-api.ap-southeast-2.amazonaws.com/prod/order')\n",
    "\n",
    "for i in range(1000): #Range counter 1000+ will produce more metrics\n",
    "    accountid = 'a0'\n",
    "    vendorid = 'v' + str(i)\n",
    "    orderdate = str(datetime.datetime.now())\n",
    "    \n",
    "    #Original value-----------\n",
    "    coffeesize = randrange(4)\n",
    "    #-------------------------\n",
    "\n",
    "    quantity = randrange(10)+1\n",
    "    city = city_list[randrange(11)]\n",
    "    response = requests.post(url,json={'order':{\n",
    "            'accountid': accountid,\n",
    "            'orderdate':orderdate,\n",
    "            'vendorid': vendorid,\n",
    "            'city':city,           \n",
    "            'details':{\n",
    "                'coffeetype': coffeetype_list[randrange(4)],\n",
    "                'coffeesize': coffeesize_list[coffeesize][\"size\"],\n",
    "                'unitprice': coffeesize_list[coffeesize][\"price\"],\n",
    "                'quantity': quantity\n",
    "            }\n",
    "    }})\n",
    "\n",
    "print(response)"
   ]
  },
  {
   "cell_type": "markdown",
   "metadata": {},
   "source": [
    "Lambda Insights shows us that the **Cost** of the **Put Item 2** function, which uses a small batch size, is higher than the **Put Item 1** function which has a larger batch size.\n",
    "\n",
    "![cost](../images/cost.png \"cost\")"
   ]
  },
  {
   "cell_type": "markdown",
   "metadata": {},
   "source": [
    "Lambda Insights shows us that the **Duration** of the **Put Item 1** function, which uses a larger batch size, is higher than the **Put Item 2** function which has a smaller batch size.\n",
    "\n",
    "![duration](../images/duration.png \"duration\")"
   ]
  },
  {
   "cell_type": "markdown",
   "metadata": {},
   "source": [
    "As you might expect, Lambda Insights shows us that the **Network Usage** metric is higher for the **Put Item 2** function, which has a smaller batch size.\n",
    "\n",
    "![network](../images/network.png \"network\")"
   ]
  }
 ],
 "metadata": {
  "kernelspec": {
   "display_name": "Python 3",
   "language": "python",
   "name": "python3"
  },
  "language_info": {
   "codemirror_mode": {
    "name": "ipython",
    "version": 3
   },
   "file_extension": ".py",
   "mimetype": "text/x-python",
   "name": "python",
   "nbconvert_exporter": "python",
   "pygments_lexer": "ipython3",
   "version": "3.8.5"
  }
 },
 "nbformat": 4,
 "nbformat_minor": 4
}
