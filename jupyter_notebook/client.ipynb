{
 "cells": [
  {
   "cell_type": "markdown",
   "metadata": {},
   "source": [
    "## Event Sourcing with Amazon Kinesis"
   ]
  },
  {
   "cell_type": "markdown",
   "metadata": {},
   "source": [
    "This example demonstrates how to use Amazon Kinesis Data Streams in an event sourcing architecture. Records are sent to the Amazon API Gateway which invokes an AWS Lambda function that loads the records into a Kinesis Data Stream. As records are added to the stream additional Lambda functions are invoke to consume the events. \n",
    "\n",
    "One function will write the event to an Amazon S3 bucket as an object, at same time the other function will write the event to an Amazon DynamoDB table as an item. The record will remain visible in the queue and can be processed simultaneously any consumer monitoring the queue for new records.\n",
    "\n",
    "You would use this pattern or something similar, when you require real-time or near real-time data record processing. \n",
    "\n"
   ]
  },
  {
   "cell_type": "markdown",
   "metadata": {},
   "source": [
    "![architecture](../images/architecture_4.png \"Architecture\")"
   ]
  },
  {
   "cell_type": "markdown",
   "metadata": {},
   "source": [
    "**Jupyter Notebook Scripts**\n",
    "1.\tThe first script creates items (orders) and posts them to an Amazon API Gateway which triggers a Lambda function. The Lambda function writes each item to an Amazon Kinesis Stream (event_sourcing_kinesis)\n",
    "\n",
    "The Kinesis Stream triggers 2 Lambda functions. Both functions pull the records from the stream. The invoice function writes each record as object to an Amazon S3 bucket. The order function writes each record as an item to an Amazon DynamoDB table.\n",
    "\n",
    "2.\tThe second script is a json formatter which renders json data into a readable format.\n",
    "\n",
    "3.\tThe third script retrieves an item from the event_sourcing_kinesis_order table using the parition key (accountid) and sort key (vendorid)\n",
    "\n",
    "4.\tThe fourth script makes a call to Amazon ApiGateway service which in turn triggers a function that generates a pre-signed url for an S3 object.\n",
    "\n",
    "**Note:** Make sure you set gwid to your gateway id using - gwid = '...'"
   ]
  },
  {
   "cell_type": "code",
   "execution_count": null,
   "metadata": {},
   "outputs": [],
   "source": [
    "import json, boto3, requests, datetime\n",
    "\n",
    "#Set gateway id\n",
    "gwid = '...'\n",
    "    \n",
    "url = (f'https://{gwid}.execute-api.ap-southeast-2.amazonaws.com/prod/order')\n",
    "\n",
    "city_list = [\"adelaide\",\"brisbane\",\"canberra\",\"darwin\",\"bungendore\",\"hobart\",\"melbourne\",\"perth\",\"sydney\",\"braidwood\"]\n",
    "\n",
    "for i in range(10):\n",
    "    accountid = 'a' + str(i)\n",
    "    vendorid = 'v' + str(i)\n",
    "    orderdate = str(datetime.datetime.now())\n",
    "    city=city_list[i]\n",
    "    coffeetype = 'Short Black'\n",
    "    coffeesize = 'Small'\n",
    "    unitprice = str(4.50 * (i+1))\n",
    "    quantity = str(i+1)\n",
    "\n",
    "    response = requests.post(url,json={'order':{\n",
    "                'accountid': accountid,\n",
    "                'orderdate':orderdate,\n",
    "                'vendorid': vendorid,\n",
    "                'city':city,\n",
    "                'details':{\n",
    "                    'coffeetype': coffeetype,\n",
    "                    'coffeesize': coffeesize,\n",
    "                    'unitprice': unitprice,\n",
    "                    'quantity': quantity\n",
    "                }\n",
    "            }\n",
    "        })\n",
    "\n",
    "    print(response)\n"
   ]
  },
  {
   "cell_type": "markdown",
   "metadata": {},
   "source": [
    "**json formatter** - Run the following script to create a class which will be used to render json objects in a readable format."
   ]
  },
  {
   "cell_type": "code",
   "execution_count": null,
   "metadata": {},
   "outputs": [],
   "source": [
    "import json, uuid\n",
    "from IPython.display import display_javascript, display_html, display\n",
    "\n",
    "class RenderJSON(object):\n",
    "    def __init__(self, json_data):\n",
    "        if isinstance(json_data, dict) or isinstance(json_data, list):\n",
    "            self.json_str = json.dumps(json_data)\n",
    "        else:\n",
    "            self.json_str = json_data\n",
    "        self.uuid = str(uuid.uuid4())\n",
    "\n",
    "    def _ipython_display_(self):\n",
    "        display_html('<div id=\"{}\" style=\"height: 600px; width:100%;font: 12px/18px monospace !important;\"></div>'.format(self.uuid), raw=True)\n",
    "        display_javascript(\"\"\"\n",
    "        require([\"https://rawgit.com/caldwell/renderjson/master/renderjson.js\"], function() {\n",
    "            renderjson.set_show_to_level(2);\n",
    "            document.getElementById('%s').appendChild(renderjson(%s))\n",
    "        });\n",
    "      \"\"\" % (self.uuid, self.json_str), raw=True)"
   ]
  },
  {
   "cell_type": "markdown",
   "metadata": {},
   "source": [
    "**Get item** from the event_sourcing_kinesistable using the parition key (accountid) and sort key (orderdate)"
   ]
  },
  {
   "cell_type": "code",
   "execution_count": null,
   "metadata": {},
   "outputs": [],
   "source": [
    "#Get Script\n",
    "\n",
    "url = (f'https://{gwid}.execute-api.ap-southeast-2.amazonaws.com/prod/order')\n",
    "\n",
    "response_get = requests.get(url, params={'accountid':accountid,'orderdate':orderdate})\n",
    "\n",
    "RenderJSON(response_get.json())"
   ]
  },
  {
   "cell_type": "markdown",
   "metadata": {},
   "source": [
    "**Generate Pre-signed URL**"
   ]
  },
  {
   "cell_type": "code",
   "execution_count": null,
   "metadata": {},
   "outputs": [],
   "source": [
    "#Get Script\n",
    "\n",
    "url = (f'https://{gwid}.execute-api.ap-southeast-2.amazonaws.com/prod/invoice')\n",
    "\n",
    "response_get = requests.get(url, params={'accountid':accountid})\n",
    "\n",
    "print(response_get.json())"
   ]
  },
  {
   "cell_type": "code",
   "execution_count": null,
   "metadata": {},
   "outputs": [],
   "source": []
  }
 ],
 "metadata": {
  "kernelspec": {
   "display_name": "Python 3",
   "language": "python",
   "name": "python3"
  },
  "language_info": {
   "codemirror_mode": {
    "name": "ipython",
    "version": 3
   },
   "file_extension": ".py",
   "mimetype": "text/x-python",
   "name": "python",
   "nbconvert_exporter": "python",
   "pygments_lexer": "ipython3",
   "version": "3.8.5"
  }
 },
 "nbformat": 4,
 "nbformat_minor": 4
}
