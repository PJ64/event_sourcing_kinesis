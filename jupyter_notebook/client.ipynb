{
 "cells": [
  {
   "cell_type": "markdown",
   "metadata": {},
   "source": [
    "## Pass Order to API"
   ]
  },
  {
   "cell_type": "markdown",
   "metadata": {},
   "source": [
    "**Note:** Make sure you set your gateway id\n",
    "\n",
    "Records are loaded into 2 DynamoDB tables and an S3 bucket."
   ]
  },
  {
   "cell_type": "code",
   "execution_count": null,
   "metadata": {},
   "outputs": [],
   "source": [
    "import json, boto3, requests, datetime\n",
    "\n",
    "#Set gateway id\n",
    "gwid = ''\n",
    "    \n",
    "url = (f'https://{gwid}.execute-api.ap-southeast-2.amazonaws.com/prod/order')\n",
    "    \n",
    "for i in range(10):\n",
    "    x = datetime.datetime.now()\n",
    "    orderid = str(x)\n",
    "    accountid = 'p' + str(i)\n",
    "    vendorid = 'v' + str(i)\n",
    "    orderdate = str(x)\n",
    "    coffeetype = 'Short Black'\n",
    "    coffeesize = 'Small'\n",
    "    unitprice = str(4.50 * i)\n",
    "    quantity = str(i)\n",
    "\n",
    "    response = requests.post(url,json={'order':{\n",
    "                'orderid': orderid,\n",
    "                'accountid': accountid,\n",
    "                'vendorid': vendorid,\n",
    "                'orderdate':orderdate,\n",
    "                'details':{\n",
    "                    'coffeetype': coffeetype,\n",
    "                    'coffeesize': coffeesize,\n",
    "                    'unitprice': unitprice,\n",
    "                    'quantity': quantity\n",
    "                }\n",
    "            }\n",
    "        })\n",
    "    print(response)"
   ]
  },
  {
   "cell_type": "code",
   "execution_count": null,
   "metadata": {},
   "outputs": [],
   "source": []
  }
 ],
 "metadata": {
  "kernelspec": {
   "display_name": "Python 3",
   "language": "python",
   "name": "python3"
  },
  "language_info": {
   "codemirror_mode": {
    "name": "ipython",
    "version": 3
   },
   "file_extension": ".py",
   "mimetype": "text/x-python",
   "name": "python",
   "nbconvert_exporter": "python",
   "pygments_lexer": "ipython3",
   "version": "3.8.5"
  }
 },
 "nbformat": 4,
 "nbformat_minor": 4
}
